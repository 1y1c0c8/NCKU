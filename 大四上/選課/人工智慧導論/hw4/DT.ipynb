{
 "cells": [
  {
   "cell_type": "code",
   "execution_count": 1,
   "metadata": {},
   "outputs": [],
   "source": [
    "import numpy as np, pandas as pd\n",
    "import math, random\n",
    "import matplotlib, seaborn"
   ]
  },
  {
   "cell_type": "markdown",
   "metadata": {},
   "source": [
    "# Model"
   ]
  },
  {
   "cell_type": "markdown",
   "metadata": {},
   "source": [
    "### data"
   ]
  },
  {
   "cell_type": "code",
   "execution_count": 2,
   "metadata": {},
   "outputs": [
    {
     "data": {
      "text/html": [
       "<div>\n",
       "<style scoped>\n",
       "    .dataframe tbody tr th:only-of-type {\n",
       "        vertical-align: middle;\n",
       "    }\n",
       "\n",
       "    .dataframe tbody tr th {\n",
       "        vertical-align: top;\n",
       "    }\n",
       "\n",
       "    .dataframe thead th {\n",
       "        text-align: right;\n",
       "    }\n",
       "</style>\n",
       "<table border=\"1\" class=\"dataframe\">\n",
       "  <thead>\n",
       "    <tr style=\"text-align: right;\">\n",
       "      <th></th>\n",
       "      <th>#follows</th>\n",
       "      <th>Patrons</th>\n",
       "      <th>Type</th>\n",
       "      <th>Label</th>\n",
       "    </tr>\n",
       "  </thead>\n",
       "  <tbody>\n",
       "    <tr>\n",
       "      <th>0</th>\n",
       "      <td>1</td>\n",
       "      <td>Some</td>\n",
       "      <td>French</td>\n",
       "      <td>Yes</td>\n",
       "    </tr>\n",
       "    <tr>\n",
       "      <th>1</th>\n",
       "      <td>2</td>\n",
       "      <td>Full</td>\n",
       "      <td>Thai</td>\n",
       "      <td>No</td>\n",
       "    </tr>\n",
       "    <tr>\n",
       "      <th>2</th>\n",
       "      <td>3</td>\n",
       "      <td>Some</td>\n",
       "      <td>Burger</td>\n",
       "      <td>Yes</td>\n",
       "    </tr>\n",
       "    <tr>\n",
       "      <th>3</th>\n",
       "      <td>4</td>\n",
       "      <td>Full</td>\n",
       "      <td>Thai</td>\n",
       "      <td>Yes</td>\n",
       "    </tr>\n",
       "    <tr>\n",
       "      <th>4</th>\n",
       "      <td>5</td>\n",
       "      <td>Full</td>\n",
       "      <td>French</td>\n",
       "      <td>No</td>\n",
       "    </tr>\n",
       "    <tr>\n",
       "      <th>5</th>\n",
       "      <td>6</td>\n",
       "      <td>Some</td>\n",
       "      <td>Italian</td>\n",
       "      <td>Yes</td>\n",
       "    </tr>\n",
       "    <tr>\n",
       "      <th>6</th>\n",
       "      <td>7</td>\n",
       "      <td>None</td>\n",
       "      <td>Burger</td>\n",
       "      <td>No</td>\n",
       "    </tr>\n",
       "    <tr>\n",
       "      <th>7</th>\n",
       "      <td>8</td>\n",
       "      <td>Some</td>\n",
       "      <td>Thai</td>\n",
       "      <td>Yes</td>\n",
       "    </tr>\n",
       "    <tr>\n",
       "      <th>8</th>\n",
       "      <td>9</td>\n",
       "      <td>Full</td>\n",
       "      <td>Burger</td>\n",
       "      <td>No</td>\n",
       "    </tr>\n",
       "    <tr>\n",
       "      <th>9</th>\n",
       "      <td>10</td>\n",
       "      <td>Full</td>\n",
       "      <td>Italian</td>\n",
       "      <td>No</td>\n",
       "    </tr>\n",
       "    <tr>\n",
       "      <th>10</th>\n",
       "      <td>11</td>\n",
       "      <td>None</td>\n",
       "      <td>Thai</td>\n",
       "      <td>No</td>\n",
       "    </tr>\n",
       "    <tr>\n",
       "      <th>11</th>\n",
       "      <td>12</td>\n",
       "      <td>Full</td>\n",
       "      <td>Burger</td>\n",
       "      <td>Yes</td>\n",
       "    </tr>\n",
       "  </tbody>\n",
       "</table>\n",
       "</div>"
      ],
      "text/plain": [
       "    #follows Patrons     Type Label\n",
       "0          1    Some   French   Yes\n",
       "1          2    Full     Thai    No\n",
       "2          3    Some   Burger   Yes\n",
       "3          4    Full     Thai   Yes\n",
       "4          5    Full   French    No\n",
       "5          6    Some  Italian   Yes\n",
       "6          7    None   Burger    No\n",
       "7          8    Some     Thai   Yes\n",
       "8          9    Full   Burger    No\n",
       "9         10    Full  Italian    No\n",
       "10        11    None     Thai    No\n",
       "11        12    Full   Burger   Yes"
      ]
     },
     "execution_count": 2,
     "metadata": {},
     "output_type": "execute_result"
    }
   ],
   "source": [
    "test_df = pd.DataFrame({\n",
    "    '#follows': [1,2,3,4,5,6,7,8,9,10,11,12], \n",
    "    'Patrons': ['Some', 'Full', 'Some', 'Full', 'Full', 'Some', 'None', 'Some', 'Full', 'Full', 'None', 'Full'],\n",
    "    'Type': ['French', 'Thai', 'Burger', 'Thai', 'French', 'Italian', 'Burger', 'Thai', 'Burger', 'Italian', 'Thai', 'Burger'],\n",
    "    'Label': ['Yes', 'No', 'Yes', 'Yes', 'No', 'Yes', 'No', 'Yes', 'No', 'No', 'No', 'Yes']\n",
    "})\n",
    "test_df"
   ]
  },
  {
   "cell_type": "markdown",
   "metadata": {},
   "source": [
    "### partition"
   ]
  },
  {
   "cell_type": "code",
   "execution_count": 11,
   "metadata": {},
   "outputs": [],
   "source": [
    "def partition(attribute, value, label, examples, type):\n",
    "\n",
    "    dict_ret = {\n",
    "        'df_splitA':[0,0],\n",
    "        'df_splitB':[0,0]\n",
    "    }\n",
    "\n",
    "    if type == \"continous\":\n",
    "        df_splitA = examples.loc[examples[attribute] <= value]\n",
    "        df_splitB = examples.loc[examples[attribute] > value]\n",
    "\n",
    "    elif type == \"discrete\":\n",
    "        df_splitA = examples.loc[examples[attribute] == value]\n",
    "        df_splitB = examples.loc[examples[attribute] != value]\n",
    "\n",
    "\n",
    "    # print(df_splitA)\n",
    "    # print('===========')\n",
    "    # print(df_splitB)\n",
    "\n",
    "    dict_ret['df_splitA'][0] = len(df_splitA.loc[df_splitA[label] == 'Yes'])\n",
    "    dict_ret['df_splitA'][1] = len(df_splitA.loc[df_splitA[label] == 'No'])\n",
    "    dict_ret['df_splitB'][0] = len(df_splitB.loc[df_splitB[label] == 'Yes'])\n",
    "    dict_ret['df_splitB'][1] = len(df_splitB.loc[df_splitB[label] == 'No'])\n",
    "\n",
    "    return dict_ret"
   ]
  },
  {
   "cell_type": "markdown",
   "metadata": {},
   "source": [
    "### Entropy & Gain"
   ]
  },
  {
   "cell_type": "code",
   "execution_count": 9,
   "metadata": {},
   "outputs": [],
   "source": [
    "def entropy(li_2_ratio):\n",
    "\n",
    "    li_entropy = list()\n",
    "    li_rat = list()\n",
    "\n",
    "    for li_ratio in li_2_ratio:\n",
    "        \n",
    "        li_rat.append(sum(li_ratio))\n",
    "        \n",
    "        if li_ratio[0] == 0 or li_ratio[1] == 0:\n",
    "            li_entropy.append(0)\n",
    "        else:\n",
    "            entropy = -1\n",
    "            summation = 0\n",
    "\n",
    "            for each in li_ratio:\n",
    "                summation += (each/sum(li_ratio)) * math.log2(each/sum(li_ratio))\n",
    "            entropy *= summation\n",
    "            li_entropy.append(round(entropy,2))\n",
    "    \n",
    "    return li_entropy, li_rat\n",
    "\n",
    "def gain(li_entropy, li_rat):\n",
    "    \n",
    "    total = sum(li_rat)\n",
    "    mulSum = 0\n",
    "    for entropy, ratio in zip(li_entropy, li_rat):\n",
    "        mulSum += entropy*(ratio/total)\n",
    "        \n",
    "    return round(1-mulSum, 2)\n",
    "\n",
    "def get_gain(attribute, a_val, label, examples, type):\n",
    "    dict_ret = partition(attribute, a_val, label, examples, type)\n",
    "    # print(dict_ret.values())\n",
    "\n",
    "    li_entropy, li_ratio = entropy(li_2_ratio=dict_ret.values())\n",
    "    # print(li_entropy)\n",
    "    # print(li_ratio)\n",
    "\n",
    "    Gain = gain(li_entropy, li_ratio)\n",
    "    # print(Gain)\n",
    "    return Gain"
   ]
  },
  {
   "cell_type": "markdown",
   "metadata": {},
   "source": [
    "### get_gain Example"
   ]
  },
  {
   "cell_type": "code",
   "execution_count": 12,
   "metadata": {},
   "outputs": [
    {
     "name": "stdout",
     "output_type": "stream",
     "text": [
      "0.46\n"
     ]
    }
   ],
   "source": [
    "print(get_gain('Patrons', 'Some', 'Label', test_df, 'discrete'))"
   ]
  },
  {
   "cell_type": "code",
   "execution_count": 23,
   "metadata": {},
   "outputs": [
    {
     "data": {
      "text/plain": [
       "{'None': 0.19, 'Full': 0.08, 'Some': 0.46}"
      ]
     },
     "execution_count": 23,
     "metadata": {},
     "output_type": "execute_result"
    }
   ],
   "source": [
    "li_patrons_element = list(set(test_df['Patrons']))\n",
    "\n",
    "dict_gain = dict()\n",
    "for element in li_patrons_element:\n",
    "    dict_gain[element] = get_gain('Patrons', element, 'Label', test_df, 'discrete')\n",
    "\n",
    "dict_gain"
   ]
  },
  {
   "cell_type": "code",
   "execution_count": 26,
   "metadata": {},
   "outputs": [
    {
     "name": "stdout",
     "output_type": "stream",
     "text": [
      "[('Some', 0.46), ('None', 0.19), ('Full', 0.08)]\n"
     ]
    }
   ],
   "source": [
    "sorted_ret = sorted(dict_gain.items(), reverse=True, key= lambda s: s[1])\n",
    "print(sorted_ret)"
   ]
  }
 ],
 "metadata": {
  "kernelspec": {
   "display_name": "Python 3",
   "language": "python",
   "name": "python3"
  },
  "language_info": {
   "codemirror_mode": {
    "name": "ipython",
    "version": 3
   },
   "file_extension": ".py",
   "mimetype": "text/x-python",
   "name": "python",
   "nbconvert_exporter": "python",
   "pygments_lexer": "ipython3",
   "version": "3.11.6"
  }
 },
 "nbformat": 4,
 "nbformat_minor": 2
}
